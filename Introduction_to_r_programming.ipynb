{
  "nbformat": 4,
  "nbformat_minor": 0,
  "metadata": {
    "colab": {
      "provenance": [],
      "collapsed_sections": []
    },
    "kernelspec": {
      "name": "python3",
      "display_name": "Python 3"
    },
    "language_info": {
      "name": "python"
    }
  },
  "cells": [
    {
      "cell_type": "code",
      "execution_count": 1,
      "metadata": {
        "colab": {
          "base_uri": "https://localhost:8080/",
          "height": 131
        },
        "id": "lqe6S6LqmlX0",
        "outputId": "b9b56967-e7aa-488e-9cc6-f9ec4394850b"
      },
      "outputs": [
        {
          "output_type": "error",
          "ename": "SyntaxError",
          "evalue": "ignored",
          "traceback": [
            "\u001b[0;36m  File \u001b[0;32m\"<ipython-input-1-2f1bf9e76f64>\"\u001b[0;36m, line \u001b[0;32m1\u001b[0m\n\u001b[0;31m    Let's create a function with parameters\u001b[0m\n\u001b[0m                                           ^\u001b[0m\n\u001b[0;31mSyntaxError\u001b[0m\u001b[0;31m:\u001b[0m EOL while scanning string literal\n"
          ]
        }
      ],
      "source": [
        "Let's create a function with parameters\n",
        "# ---\n",
        "#\n",
        "#Returns the prices of the items after applying the 10% tax\n",
        "after_tax_prices <- function(){\n",
        "  total_prices <- c(length = 7)\n",
        "  prices <- c(120, 32, 99, 49, 99, 75, 30)\n",
        "  i = 1\n",
        "  while(i <= length(prices)) {\n",
        "    total_prices[[i]] <- prices[i]*1.1\n",
        "    i <- i + 1\n",
        "  }\n",
        "  return(total_prices)\n",
        "}\n",
        "print(\"Prices after taxation\")\n",
        "## [1] \"Prices after taxation\"\n",
        "after_tax_prices()\n",
        "## length                                           \n",
        "##  132.0   35.2  108.9   53.9  108.9   82.5   33.0\n",
        "cost_of_shipping <- function(number_of_items){\n",
        "  shipping_cost <- 0\n",
        "  if (number_of_items == 1) {\n",
        "    shipping_cost <- 4\n",
        "  } else {\n",
        "    shipping_cost <- 4 + ((number_of_items-1)*2)\n",
        "  }\n",
        "  \n",
        "  return(shipping_cost)\n",
        "}\n",
        "print(\"cost of shipping\")\n",
        "## [1] \"cost of shipping\"\n",
        "cost_of_shipping(3)\n",
        "## [1] 8\n",
        "total_cost_of_shipping <-function(number_of_items) {\n",
        "  total_cost_of_shipping <- cost_of_shipping(number_of_items) + sum(after_tax_prices()[1:number_of_items])\n",
        "  \n",
        "  #This checks if the customer qualifies for the discount\n",
        "  if(total_cost_of_shipping >= 500) {\n",
        "    total_cost_of_shipping <- total_cost_of_shipping - 10\n",
        "  }\n",
        "  return(total_cost_of_shipping)\n",
        "}\n",
        "print(\"cost of shipping plus prices (total cost)\")\n",
        "## [1] \"cost of shipping plus prices (total cost)\"\n",
        "total_cost_of_shipping(3)\n",
        "## [1] 284.1"
      ]
    }
  ]
}